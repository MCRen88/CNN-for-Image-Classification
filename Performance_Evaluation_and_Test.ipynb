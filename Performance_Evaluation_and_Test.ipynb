{
 "cells": [
  {
   "cell_type": "markdown",
   "metadata": {},
   "source": [
    "<h4 style=\"color:#ff6600 ; text-align:left ; font-family: Verdana, serif;\"><b>CNN with 12 layers (with Batch-Norm)</b></h4>"
   ]
  },
  {
   "cell_type": "code",
   "execution_count": 6,
   "metadata": {
    "collapsed": false
   },
   "outputs": [
    {
     "name": "stderr",
     "output_type": "stream",
     "text": [
      "Using Theano backend.\n",
      "WARNING (theano.configdefaults): Only clang++ is supported. With g++, we end up with strange g++/OSX bugs.\n"
     ]
    }
   ],
   "source": [
    "import pandas as pd\n",
    "import plotly.plotly as py\n",
    "import plotly.graph_objs as go\n",
    "from plotly import tools\n",
    "import numpy\n",
    "import json\n",
    "import os\n",
    "\n",
    "from sklearn.metrics import confusion_matrix\n",
    "from sklearn.metrics import accuracy_score\n",
    "from sklearn.metrics import precision_score\n",
    "from sklearn.metrics import classification_report\n",
    "\n",
    "# custom import\n",
    "from pyscripts.predict_class import test_mod"
   ]
  },
  {
   "cell_type": "code",
   "execution_count": 22,
   "metadata": {
    "collapsed": false
   },
   "outputs": [
    {
     "data": {
      "text/html": [
       "<iframe id=\"igraph\" scrolling=\"no\" style=\"border:none;\" seamless=\"seamless\" src=\"https://plot.ly/~hema.vakade/154.embed\" height=\"525px\" width=\"100%\"></iframe>"
      ],
      "text/plain": [
       "<plotly.tools.PlotlyDisplay object>"
      ]
     },
     "execution_count": 22,
     "metadata": {},
     "output_type": "execute_result"
    }
   ],
   "source": [
    "fl = './work/CNN_12/history.json'\n",
    "\n",
    "with open(fl) as json_data:\n",
    "    history = json.load(json_data)\n",
    "trace0 = go.Scatter(\n",
    "    x = range(len(history['acc'])),\n",
    "    y = history['acc'],\n",
    "    mode = 'lines+markers',\n",
    "    name = 'Training Accuracy'    \n",
    ")\n",
    "\n",
    "trace1 = go.Scatter(\n",
    "    x = range(len(history['val_acc'])),\n",
    "    y = history['val_acc'],\n",
    "    mode = 'lines+markers',\n",
    "    name = 'Validation Accuracy'\n",
    ")\n",
    "\n",
    "data = [trace0, trace1]\n",
    "layout = go.Layout(\n",
    "    title='Train-Validation Accuracy',\n",
    "    xaxis=dict(\n",
    "        title='Number of passes through data',\n",
    "        titlefont=dict(\n",
    "            family='Courier New, monospace',\n",
    "            size=18,\n",
    "            color='#7f7f7f'\n",
    "        )\n",
    "    ),\n",
    "    yaxis=dict(\n",
    "        title='Accuracy',\n",
    "        titlefont=dict(\n",
    "            family='Courier New, monospace',\n",
    "            size=18,\n",
    "            color='#7f7f7f'\n",
    "        )\n",
    "    )\n",
    ")\n",
    "fig = go.Figure(data=data, layout=layout)\n",
    "# Plot and embed in ipython notebook!\n",
    "py.iplot(fig, filename='traintest_acc')\n"
   ]
  },
  {
   "cell_type": "code",
   "execution_count": 23,
   "metadata": {
    "collapsed": false
   },
   "outputs": [
    {
     "data": {
      "text/html": [
       "<iframe id=\"igraph\" scrolling=\"no\" style=\"border:none;\" seamless=\"seamless\" src=\"https://plot.ly/~hema.vakade/156.embed\" height=\"525px\" width=\"100%\"></iframe>"
      ],
      "text/plain": [
       "<plotly.tools.PlotlyDisplay object>"
      ]
     },
     "execution_count": 23,
     "metadata": {},
     "output_type": "execute_result"
    }
   ],
   "source": [
    "trace0 = go.Scatter(\n",
    "    x = range(len(history['loss'])),\n",
    "    y = history['loss'],\n",
    "    mode = 'lines+markers',\n",
    "    name = 'Training Loss'    \n",
    ")\n",
    "\n",
    "trace1 = go.Scatter(\n",
    "    x = range(len(history['val_loss'])),\n",
    "    y = history['val_loss'],\n",
    "    mode = 'lines+markers',\n",
    "    name = 'Validation Loss'\n",
    ")\n",
    "\n",
    "data = [trace0, trace1]\n",
    "layout = go.Layout(\n",
    "    title='Train-Validation Loss',\n",
    "    xaxis=dict(\n",
    "        title='Number of passes through data',\n",
    "        titlefont=dict(\n",
    "            family='Courier New, monospace',\n",
    "            size=18,\n",
    "            color='#7f7f7f'\n",
    "        )\n",
    "    ),\n",
    "    yaxis=dict(\n",
    "        title='Loss',\n",
    "        titlefont=dict(\n",
    "            family='Courier New, monospace',\n",
    "            size=18,\n",
    "            color='#7f7f7f'\n",
    "        )\n",
    "    )\n",
    ")\n",
    "fig = go.Figure(data=data, layout=layout)\n",
    "# Plot and embed in ipython notebook!\n",
    "py.iplot(fig, filename='traintest_loss')\n"
   ]
  },
  {
   "cell_type": "markdown",
   "metadata": {},
   "source": [
    "<p style=\"color:black ; text-align:left ; font-family: Verdana, serif;\"><b>Confusion Matrix for the Test data</b></p>"
   ]
  },
  {
   "cell_type": "code",
   "execution_count": null,
   "metadata": {
    "collapsed": true
   },
   "outputs": [],
   "source": [
    "path = './work'\n",
    "model_name = 'CNN_12'\n",
    "\n",
    "out_df, class_dictionary = test_mod(model_name, path)\n",
    "out_df.to_csv(path + '/' + model_name + '/pred.csv', index=False)"
   ]
  },
  {
   "cell_type": "code",
   "execution_count": 27,
   "metadata": {
    "collapsed": false
   },
   "outputs": [],
   "source": [
    "df_in = pd.read_csv('./work/CNN_12/pred.csv')\n",
    "cf = confusion_matrix(df_in['actual'], df_in['pred'])\n",
    "x = class_dictionary.values()\n",
    "y = class_dictionary.values()"
   ]
  },
  {
   "cell_type": "code",
   "execution_count": 29,
   "metadata": {
    "collapsed": false
   },
   "outputs": [
    {
     "data": {
      "text/html": [
       "<iframe id=\"igraph\" scrolling=\"no\" style=\"border:none;\" seamless=\"seamless\" src=\"https://plot.ly/~hema.vakade/162.embed\" height=\"700px\" width=\"700px\"></iframe>"
      ],
      "text/plain": [
       "<plotly.tools.PlotlyDisplay object>"
      ]
     },
     "execution_count": 29,
     "metadata": {},
     "output_type": "execute_result"
    }
   ],
   "source": [
    "''' Format of the confusion matrix / Heatmap\n",
    "        x0    x1    x2    x3    x4\n",
    "z = [[0.00, 0.00, 0.75, 0.75, 0.00],  y0\n",
    "     [0.00, 0.00, 0.75, 0.75, 0.00],  y1\n",
    "     [0.75, 0.75, 0.75, 0.75, 0.75],  y2\n",
    "     [0.00, 0.00, 0.00, 0.75, 0.00]]  y3\n",
    "'''\n",
    "\n",
    "z = cf\n",
    "annotations = []\n",
    "for n, row in enumerate(z):\n",
    "    for m, val in enumerate(row):\n",
    "        var = z[n][m]\n",
    "        annotations.append(\n",
    "            dict(\n",
    "                text=str(val),\n",
    "                x=x[m], y=y[n],\n",
    "                xref='x1', yref='y1',\n",
    "                font=dict(color='white' if val > 0.5 else 'black'),\n",
    "                showarrow=False)\n",
    "            )\n",
    "\n",
    "#colorscale = [[0, '#3D9970'], [1, '#001f3f']]  # custom colorscale\n",
    "trace = go.Heatmap(x=x, y=y, z=z, colorscale='RdYlBu', showscale=True)\n",
    "\n",
    "fig = go.Figure(data=[trace])\n",
    "fig['layout'].update(\n",
    "    title=\"Confusion matrix\",\n",
    "    annotations=annotations,\n",
    "    xaxis=dict(title='Predicted',ticks='', side='down', tickangle=-45),\n",
    "    # ticksuffix is a workaround to add a bit of padding\n",
    "    yaxis=dict(title='Actual',ticks='', ticksuffix='  '),\n",
    "    width=700,\n",
    "    height=700,\n",
    "    autosize=False,\n",
    "    margin=go.Margin(\n",
    "                    l=200,\n",
    "                    b= 150,\n",
    "                    pad=4\n",
    "                    )\n",
    "    \n",
    ")\n",
    "py.iplot(fig, filename='Confusion matrix', height=1000)"
   ]
  },
  {
   "cell_type": "markdown",
   "metadata": {},
   "source": [
    "<p style=\"color:black ; text-align:left ; font-family: Verdana, serif;\"><b>Classification Report for the Test data</b></p>"
   ]
  },
  {
   "cell_type": "code",
   "execution_count": 13,
   "metadata": {
    "collapsed": false
   },
   "outputs": [
    {
     "name": "stdout",
     "output_type": "stream",
     "text": [
      "                           precision    recall  f1-score   support\n",
      "\n",
      "   Cephalophus_harveyi_TZ       0.96      0.98      0.97       382\n",
      "     Cercocebus_sanjei_TZ       0.95      1.00      0.98       122\n",
      "   Dasyprocta_leporina_SR       0.93      0.99      0.96       155\n",
      "  Nesotragus_moschatus_TZ       0.97      0.95      0.96       127\n",
      "       Panthera_pardus_TZ       1.00      0.71      0.83        21\n",
      "         Pecari_tajacu_SR       0.96      0.95      0.95       116\n",
      "Potamochoerus_larvatus_TZ       0.98      0.95      0.97       163\n",
      "     Psophia_crepitans_SR       0.99      0.93      0.96       162\n",
      "        Tayassu_pecari_SR       0.96      0.98      0.97       130\n",
      "  Tragelaphus_scriptus_TZ       0.96      0.90      0.93        30\n",
      "\n",
      "              avg / total       0.96      0.96      0.96      1408\n",
      "\n"
     ]
    }
   ],
   "source": [
    "y_test = df_in['actual']\n",
    "y_pred = df_in['pred']\n",
    "cr = (classification_report(y_test, y_pred, target_names=class_dictionary.values()))\n",
    "print cr"
   ]
  },
  {
   "cell_type": "markdown",
   "metadata": {},
   "source": [
    "<p style=\"color:black ; text-align:left ; font-family: Verdana, serif;\"><b>Overall Accuracy for the Test data</b></p>"
   ]
  },
  {
   "cell_type": "code",
   "execution_count": 14,
   "metadata": {
    "collapsed": false
   },
   "outputs": [
    {
     "data": {
      "text/plain": [
       "0.96306818181818177"
      ]
     },
     "execution_count": 14,
     "metadata": {},
     "output_type": "execute_result"
    }
   ],
   "source": [
    "accuracy_score(y_test, y_pred, normalize=True, sample_weight=None)"
   ]
  },
  {
   "cell_type": "markdown",
   "metadata": {},
   "source": [
    "<h4 style=\"color:#ff6600 ; text-align:left ; font-family: Verdana, serif;\"><b>CNN with 12 layers (with Batch-Norm + Dropout)</b></h4>"
   ]
  },
  {
   "cell_type": "code",
   "execution_count": 30,
   "metadata": {
    "collapsed": false
   },
   "outputs": [
    {
     "data": {
      "text/html": [
       "<iframe id=\"igraph\" scrolling=\"no\" style=\"border:none;\" seamless=\"seamless\" src=\"https://plot.ly/~hema.vakade/154.embed\" height=\"525px\" width=\"100%\"></iframe>"
      ],
      "text/plain": [
       "<plotly.tools.PlotlyDisplay object>"
      ]
     },
     "execution_count": 30,
     "metadata": {},
     "output_type": "execute_result"
    }
   ],
   "source": [
    "fl = './work/CNN_12_DO/history.json'\n",
    "\n",
    "with open(fl) as json_data:\n",
    "    history = json.load(json_data)\n",
    "trace0 = go.Scatter(\n",
    "    x = range(len(history['acc'])),\n",
    "    y = history['acc'],\n",
    "    mode = 'lines+markers',\n",
    "    name = 'Training Accuracy'    \n",
    ")\n",
    "\n",
    "trace1 = go.Scatter(\n",
    "    x = range(len(history['val_acc'])),\n",
    "    y = history['val_acc'],\n",
    "    mode = 'lines+markers',\n",
    "    name = 'Validation Accuracy'\n",
    ")\n",
    "\n",
    "data = [trace0, trace1]\n",
    "layout = go.Layout(\n",
    "    title='Train-Validation Accuracy',\n",
    "    xaxis=dict(\n",
    "        title='Number of passes through data',\n",
    "        titlefont=dict(\n",
    "            family='Courier New, monospace',\n",
    "            size=18,\n",
    "            color='#7f7f7f'\n",
    "        )\n",
    "    ),\n",
    "    yaxis=dict(\n",
    "        title='Accuracy',\n",
    "        titlefont=dict(\n",
    "            family='Courier New, monospace',\n",
    "            size=18,\n",
    "            color='#7f7f7f'\n",
    "        )\n",
    "    )\n",
    ")\n",
    "fig = go.Figure(data=data, layout=layout)\n",
    "# Plot and embed in ipython notebook!\n",
    "py.iplot(fig, filename='traintest_acc')\n"
   ]
  },
  {
   "cell_type": "code",
   "execution_count": 31,
   "metadata": {
    "collapsed": false
   },
   "outputs": [
    {
     "data": {
      "text/html": [
       "<iframe id=\"igraph\" scrolling=\"no\" style=\"border:none;\" seamless=\"seamless\" src=\"https://plot.ly/~hema.vakade/156.embed\" height=\"525px\" width=\"100%\"></iframe>"
      ],
      "text/plain": [
       "<plotly.tools.PlotlyDisplay object>"
      ]
     },
     "execution_count": 31,
     "metadata": {},
     "output_type": "execute_result"
    }
   ],
   "source": [
    "trace0 = go.Scatter(\n",
    "    x = range(len(history['loss'])),\n",
    "    y = history['loss'],\n",
    "    mode = 'lines+markers',\n",
    "    name = 'Training Loss'    \n",
    ")\n",
    "\n",
    "trace1 = go.Scatter(\n",
    "    x = range(len(history['val_loss'])),\n",
    "    y = history['val_loss'],\n",
    "    mode = 'lines+markers',\n",
    "    name = 'Validation Loss'\n",
    ")\n",
    "\n",
    "data = [trace0, trace1]\n",
    "layout = go.Layout(\n",
    "    title='Train-Validation Loss',\n",
    "    xaxis=dict(\n",
    "        title='Number of passes through data',\n",
    "        titlefont=dict(\n",
    "            family='Courier New, monospace',\n",
    "            size=18,\n",
    "            color='#7f7f7f'\n",
    "        )\n",
    "    ),\n",
    "    yaxis=dict(\n",
    "        title='Loss',\n",
    "        titlefont=dict(\n",
    "            family='Courier New, monospace',\n",
    "            size=18,\n",
    "            color='#7f7f7f'\n",
    "        )\n",
    "    )\n",
    ")\n",
    "fig = go.Figure(data=data, layout=layout)\n",
    "# Plot and embed in ipython notebook!\n",
    "py.iplot(fig, filename='traintest_loss')\n",
    "\n"
   ]
  },
  {
   "cell_type": "markdown",
   "metadata": {},
   "source": [
    "<p style=\"color:black ; text-align:left ; font-family: Verdana, serif;\"><b>Confusion Matrix for the Test data</b></p>"
   ]
  },
  {
   "cell_type": "code",
   "execution_count": null,
   "metadata": {
    "collapsed": true
   },
   "outputs": [],
   "source": [
    "path = './work'\n",
    "model_name = 'CNN_12'\n",
    "\n",
    "out_df, class_dictionary = test_mod(model_name, path)\n",
    "out_df.to_csv(path + '/' + model_name + '/pred.csv', index=False)"
   ]
  },
  {
   "cell_type": "code",
   "execution_count": 32,
   "metadata": {
    "collapsed": true
   },
   "outputs": [],
   "source": [
    "df_in = pd.read_csv('./work/CNN_12_DO/pred.csv')\n",
    "cf = confusion_matrix(df_in['actual'], df_in['pred'])\n",
    "x = class_dictionary.values()\n",
    "y = class_dictionary.values()"
   ]
  },
  {
   "cell_type": "code",
   "execution_count": 33,
   "metadata": {
    "collapsed": false
   },
   "outputs": [
    {
     "data": {
      "text/html": [
       "<iframe id=\"igraph\" scrolling=\"no\" style=\"border:none;\" seamless=\"seamless\" src=\"https://plot.ly/~hema.vakade/162.embed\" height=\"700px\" width=\"700px\"></iframe>"
      ],
      "text/plain": [
       "<plotly.tools.PlotlyDisplay object>"
      ]
     },
     "execution_count": 33,
     "metadata": {},
     "output_type": "execute_result"
    }
   ],
   "source": [
    "''' Format of the confusion matrix / Heatmap\n",
    "        x0    x1    x2    x3    x4\n",
    "z = [[0.00, 0.00, 0.75, 0.75, 0.00],  y0\n",
    "     [0.00, 0.00, 0.75, 0.75, 0.00],  y1\n",
    "     [0.75, 0.75, 0.75, 0.75, 0.75],  y2\n",
    "     [0.00, 0.00, 0.00, 0.75, 0.00]]  y3\n",
    "'''\n",
    "\n",
    "z = cf\n",
    "annotations = []\n",
    "for n, row in enumerate(z):\n",
    "    for m, val in enumerate(row):\n",
    "        var = z[n][m]\n",
    "        annotations.append(\n",
    "            dict(\n",
    "                text=str(val),\n",
    "                x=x[m], y=y[n],\n",
    "                xref='x1', yref='y1',\n",
    "                font=dict(color='white' if val > 0.5 else 'black'),\n",
    "                showarrow=False)\n",
    "            )\n",
    "\n",
    "#colorscale = [[0, '#3D9970'], [1, '#001f3f']]  # custom colorscale\n",
    "trace = go.Heatmap(x=x, y=y, z=z, colorscale='RdYlBu', showscale=True)\n",
    "\n",
    "fig = go.Figure(data=[trace])\n",
    "fig['layout'].update(\n",
    "    title=\"Confusion matrix\",\n",
    "    annotations=annotations,\n",
    "    xaxis=dict(title='Predicted',ticks='', side='down', tickangle=-45),\n",
    "    # ticksuffix is a workaround to add a bit of padding\n",
    "    yaxis=dict(title='Actual',ticks='', ticksuffix='  '),\n",
    "    width=700,\n",
    "    height=700,\n",
    "    autosize=False,\n",
    "    margin=go.Margin(\n",
    "                    l=200,\n",
    "                    b= 150,\n",
    "                    pad=4\n",
    "                    )\n",
    "    \n",
    ")\n",
    "py.iplot(fig, filename='Confusion matrix', height=1000)"
   ]
  },
  {
   "cell_type": "markdown",
   "metadata": {},
   "source": [
    "<p style=\"color:black ; text-align:left ; font-family: Verdana, serif;\"><b>Classification Report for the Test data</b></p>"
   ]
  },
  {
   "cell_type": "code",
   "execution_count": 18,
   "metadata": {
    "collapsed": false
   },
   "outputs": [
    {
     "name": "stdout",
     "output_type": "stream",
     "text": [
      "                           precision    recall  f1-score   support\n",
      "\n",
      "   Cephalophus_harveyi_TZ       0.79      0.75      0.77       382\n",
      "     Cercocebus_sanjei_TZ       0.78      0.30      0.43       122\n",
      "   Dasyprocta_leporina_SR       0.74      0.56      0.64       155\n",
      "  Nesotragus_moschatus_TZ       0.81      0.70      0.75       127\n",
      "       Panthera_pardus_TZ       0.27      0.14      0.19        21\n",
      "         Pecari_tajacu_SR       0.29      0.93      0.44       116\n",
      "Potamochoerus_larvatus_TZ       0.56      0.80      0.66       163\n",
      "     Psophia_crepitans_SR       1.00      0.19      0.32       162\n",
      "        Tayassu_pecari_SR       0.60      0.56      0.58       130\n",
      "  Tragelaphus_scriptus_TZ       1.00      0.03      0.06        30\n",
      "\n",
      "              avg / total       0.72      0.60      0.59      1408\n",
      "\n"
     ]
    }
   ],
   "source": [
    "y_test = df_in['actual']\n",
    "y_pred = df_in['pred']\n",
    "cr = (classification_report(y_test, y_pred, target_names=class_dictionary.values()))\n",
    "print cr"
   ]
  },
  {
   "cell_type": "markdown",
   "metadata": {},
   "source": [
    "<p style=\"color:black ; text-align:left ; font-family: Verdana, serif;\"><b>Overall Accuracy for the Test data</b></p>"
   ]
  },
  {
   "cell_type": "code",
   "execution_count": 20,
   "metadata": {
    "collapsed": false
   },
   "outputs": [
    {
     "data": {
      "text/plain": [
       "0.60014204545454541"
      ]
     },
     "execution_count": 20,
     "metadata": {},
     "output_type": "execute_result"
    }
   ],
   "source": [
    "accuracy_score(y_test, y_pred, normalize=True, sample_weight=None)"
   ]
  }
 ],
 "metadata": {
  "kernelspec": {
   "display_name": "Python 2",
   "language": "python",
   "name": "python2"
  },
  "language_info": {
   "codemirror_mode": {
    "name": "ipython",
    "version": 2
   },
   "file_extension": ".py",
   "mimetype": "text/x-python",
   "name": "python",
   "nbconvert_exporter": "python",
   "pygments_lexer": "ipython2",
   "version": "2.7.12"
  }
 },
 "nbformat": 4,
 "nbformat_minor": 1
}
